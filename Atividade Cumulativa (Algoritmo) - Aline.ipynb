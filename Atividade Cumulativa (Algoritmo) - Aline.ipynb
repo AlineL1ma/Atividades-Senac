{
 "cells": [
  {
   "cell_type": "markdown",
   "metadata": {},
   "source": [
    "1. "
   ]
  },
  {
   "cell_type": "code",
   "execution_count": 4,
   "metadata": {},
   "outputs": [
    {
     "name": "stdout",
     "output_type": "stream",
     "text": [
      "Está letra é uma vogal.\n"
     ]
    }
   ],
   "source": [
    "L = str(input(\"Digite aqui uma letra qualquer: \"))\n",
    "letrasV = ['A','a','E','e','I','i','O','o','U','u']\n",
    "\n",
    "if L in letrasV:\n",
    "    print('Está letra é uma vogal.')\n",
    "else:\n",
    "    print('Está letra é uma consoante.')\n"
   ]
  },
  {
   "cell_type": "markdown",
   "metadata": {},
   "source": [
    "2. "
   ]
  },
  {
   "cell_type": "markdown",
   "metadata": {},
   "source": []
  },
  {
   "cell_type": "code",
   "execution_count": 4,
   "metadata": {},
   "outputs": [
    {
     "name": "stdout",
     "output_type": "stream",
     "text": [
      "O produto que você deve comprar é o mentos\n"
     ]
    }
   ],
   "source": [
    "#Pedir os nomes e preços dos produtos.\n",
    "p1 = str(input('Digite aqui o nome do produto: '))\n",
    "v1 = float(input('Agora, digite aqui o preço do produto: '))\n",
    "    \n",
    "p2 = str(input('Digite aqui o nome do produto: '))\n",
    "v2 = float(input('Agora, digite aqui o preço do produto: '))\n",
    "    \n",
    "p3 = str(input('Digite aqui o nome do produto: '))\n",
    "v3 = float(input('Agora, digite aqui o preço do produto: '))\n",
    "\n",
    "#Definindo o menor preço.\n",
    "menor_preco = 0\n",
    "\n",
    "#Identificar o preço mais barato.\n",
    "if (v1 < v2 and v1 < v3):\n",
    "    menor_preco = p1\n",
    "elif  (v2 < v1 and v2 < v3):\n",
    "    menor_preco = p2\n",
    "else:\n",
    "    menor_preco = p3\n",
    "    \n",
    "#Mostrar o menor valor\n",
    "print(f'O produto que você deve comprar é o {menor_preco}')\n",
    "    "
   ]
  },
  {
   "cell_type": "markdown",
   "metadata": {},
   "source": [
    "3. "
   ]
  },
  {
   "cell_type": "code",
   "execution_count": 5,
   "metadata": {},
   "outputs": [
    {
     "name": "stdout",
     "output_type": "stream",
     "text": [
      "70.0 45.0 20.0\n"
     ]
    }
   ],
   "source": [
    "#Pedir os três números.\n",
    "numero1 = float(input('Digite o primeiro número'))\n",
    "numero2 = float(input('Digite o segundo número'))\n",
    "numero3 = float(input('Digite o terceiro número'))\n",
    "\n",
    "\n",
    "#Primeiro número da lista.\n",
    "if numero1 > numero2 and numero1 > numero3:\n",
    "    nuMaior = numero1\n",
    "elif numero1 > numero2 and numero1 < numero3:\n",
    "    nuDoMeio = numero1\n",
    "elif numero1 < numero2 and numero1 > numero3:\n",
    "    nuDoMeio = numero1\n",
    "else:\n",
    "    nuMenor = numero1\n",
    "\n",
    "\n",
    "#Segundo número da lista.\n",
    "if numero2 > numero1 and numero2 > numero3:\n",
    "    nuMaior = numero2\n",
    "elif numero2 > numero1 and numero2 < numero3:\n",
    "    nuDoMeio = numero2\n",
    "elif numero2 < numero1 and numero2 > numero3:\n",
    "    nuDoMeio = numero2\n",
    "else:\n",
    "    numero2 < numero1 and numero2 < numero3\n",
    "    nuMenor = numero2\n",
    "\n",
    "\n",
    "#Terceiro número da lista.\n",
    "if numero3 > numero1 and numero3 > numero2:\n",
    "    nuMaior = numero3\n",
    "elif numero3 > numero1 and numero3 < numero2:\n",
    "    nuDoMeio = numero3\n",
    "elif numero3 < numero1 and numero3 > numero2:\n",
    "    nuDoMeio = numero3\n",
    "else:\n",
    "    numero3 < numero1 and numero3 < numero2\n",
    "    nuMenor = numero3\n",
    "    \n",
    "print(nuMaior, nuDoMeio, nuMenor)\n",
    "\n"
   ]
  },
  {
   "cell_type": "markdown",
   "metadata": {},
   "source": [
    "4. Programa que pede o turno do usuário."
   ]
  },
  {
   "cell_type": "code",
   "execution_count": 22,
   "metadata": {},
   "outputs": [
    {
     "name": "stdout",
     "output_type": "stream",
     "text": [
      "Valor inválido!\n"
     ]
    }
   ],
   "source": [
    "turno = str(input(\"Digite em qual turno você está, usando M para Matutino, V para Vespertino ou N para Noturno: \"))\n",
    "\n",
    "if (turno == 'M' or turno == 'm'):\n",
    "    print('Bom dia!')\n",
    "elif (turno == 'V' or turno == 'v'):\n",
    "    print('Boa tarde!')\n",
    "elif (turno == 'N' or turno == 'n'):\n",
    "    print('Boa noite!')\n",
    "else:\n",
    "    print(\"Valor inválido!\")"
   ]
  },
  {
   "cell_type": "markdown",
   "metadata": {},
   "source": [
    "5. "
   ]
  },
  {
   "cell_type": "code",
   "execution_count": 36,
   "metadata": {},
   "outputs": [
    {
     "name": "stdout",
     "output_type": "stream",
     "text": [
      "Quinta\n"
     ]
    }
   ],
   "source": [
    "#Definir lista dos dias.\n",
    "diasSemana = ['Domingo', 'Segunda', 'Terça', 'Quarta', 'Quinta', 'Sexta', 'Sábado']\n",
    " \n",
    "#Pedir um número e ler.\n",
    "diaNumero = int(input(\"Digite aqui um número de 1 até 7: \"))\n",
    "\n",
    "#Lendo e identificando o dia.\n",
    "if (diaNumero >= 1 and diaNumero <= 7):\n",
    "    print(diasSemana[diaNumero - 1])\n",
    "else:\n",
    "    print(\"Inválido!\")\n",
    "    "
   ]
  },
  {
   "cell_type": "markdown",
   "metadata": {},
   "source": [
    "5.2"
   ]
  },
  {
   "cell_type": "code",
   "execution_count": 46,
   "metadata": {},
   "outputs": [
    {
     "name": "stdout",
     "output_type": "stream",
     "text": [
      "Aprovado! Com notas 9.0 e 3.0, com média 6.0 e conceito C\n"
     ]
    }
   ],
   "source": [
    "#Programa de Leitura de Notas.\n",
    "nota1 = float(input(\"Digite a primeira nota do aluno\"))\n",
    "nota2 = float(input(\"Digite a segunda nota do aluno\"))\n",
    "mediaAluno = ((nota1 + nota2) / 2) \n",
    "\n",
    "#Lista com os conceitos.\n",
    "conceitos = ['A', 'B', 'C', 'D', 'E']\n",
    "\n",
    "#Ou print((nota1 + nota2)/2)\n",
    "if (mediaAluno >= 9 and mediaAluno <= 10):\n",
    "    print(f\"Aprovado! Com notas {nota1} e {nota2}, com média {mediaAluno} e conceito\", conceitos[0])\n",
    "elif (mediaAluno >= 7.5 and mediaAluno <= 9):\n",
    "    print(f\"Aprovado! Com notas {nota1} e {nota2}, com média {mediaAluno} e conceito\", conceitos[1])\n",
    "elif (mediaAluno >= 6 and mediaAluno <= 7.5):\n",
    "    print(f\"Aprovado! Com notas {nota1} e {nota2}, com média {mediaAluno} e conceito\", conceitos[2])\n",
    "elif (mediaAluno >= 4 and mediaAluno <= 6):\n",
    "    print(f\"Reprovado! Com notas {nota1} e {nota2}, com média {mediaAluno} e conceito\", conceitos[3])\n",
    "elif (mediaAluno >= 4 and mediaAluno <= 0):\n",
    "    print(f\"Reprovado! Com notas {nota1} e {nota2}, com média {mediaAluno} e conceito\", conceitos[4])"
   ]
  },
  {
   "cell_type": "markdown",
   "metadata": {},
   "source": [
    "6. "
   ]
  },
  {
   "cell_type": "code",
   "execution_count": null,
   "metadata": {},
   "outputs": [],
   "source": []
  }
 ],
 "metadata": {
  "kernelspec": {
   "display_name": "Python 3",
   "language": "python",
   "name": "python3"
  },
  "language_info": {
   "codemirror_mode": {
    "name": "ipython",
    "version": 3
   },
   "file_extension": ".py",
   "mimetype": "text/x-python",
   "name": "python",
   "nbconvert_exporter": "python",
   "pygments_lexer": "ipython3",
   "version": "3.12.1"
  }
 },
 "nbformat": 4,
 "nbformat_minor": 2
}
