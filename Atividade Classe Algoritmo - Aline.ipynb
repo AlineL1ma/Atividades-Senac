{
 "cells": [
  {
   "cell_type": "code",
   "execution_count": 1,
   "metadata": {},
   "outputs": [
    {
     "data": {
      "text/plain": [
       "3"
      ]
     },
     "execution_count": 1,
     "metadata": {},
     "output_type": "execute_result"
    }
   ],
   "source": [
    "dias = [3,1,10]\n",
    "dias[0]"
   ]
  },
  {
   "cell_type": "code",
   "execution_count": 2,
   "metadata": {},
   "outputs": [
    {
     "data": {
      "text/plain": [
       "1"
      ]
     },
     "execution_count": 2,
     "metadata": {},
     "output_type": "execute_result"
    }
   ],
   "source": [
    "dias[1]\n"
   ]
  },
  {
   "cell_type": "code",
   "execution_count": 3,
   "metadata": {},
   "outputs": [
    {
     "data": {
      "text/plain": [
       "10"
      ]
     },
     "execution_count": 3,
     "metadata": {},
     "output_type": "execute_result"
    }
   ],
   "source": [
    "dias[2]"
   ]
  },
  {
   "cell_type": "code",
   "execution_count": 4,
   "metadata": {},
   "outputs": [],
   "source": [
    "Z = [3,8,9]"
   ]
  },
  {
   "cell_type": "code",
   "execution_count": 5,
   "metadata": {},
   "outputs": [],
   "source": [
    "Z[0] = 7"
   ]
  },
  {
   "cell_type": "code",
   "execution_count": 6,
   "metadata": {},
   "outputs": [
    {
     "data": {
      "text/plain": [
       "[7, 8, 9]"
      ]
     },
     "execution_count": 6,
     "metadata": {},
     "output_type": "execute_result"
    }
   ],
   "source": [
    "Z"
   ]
  },
  {
   "cell_type": "code",
   "execution_count": 7,
   "metadata": {},
   "outputs": [
    {
     "name": "stdout",
     "output_type": "stream",
     "text": [
      "True\n",
      "True\n",
      "[5, 7, 5, 8, 9]\n",
      "[5, 7, 5, 8, 9]\n"
     ]
    }
   ],
   "source": [
    "V = [6,7,5,8,9]\n",
    "L = V\n",
    "print(V==L)\n",
    "print(V is L)\n",
    "V[0] = 5\n",
    "print(V)\n",
    "print(L)"
   ]
  },
  {
   "cell_type": "code",
   "execution_count": 8,
   "metadata": {},
   "outputs": [
    {
     "name": "stdout",
     "output_type": "stream",
     "text": [
      "True\n",
      "False\n",
      "[81, 82, 83]\n",
      "[5, 82, 83]\n"
     ]
    }
   ],
   "source": [
    "a = [81,82,83]\n",
    "b = a[:] #criar um clone com fatia\n",
    "print(a == b)\n",
    "print(a is b)\n",
    "b[0] = 5\n",
    "print(a)\n",
    "print(b)"
   ]
  },
  {
   "cell_type": "code",
   "execution_count": 9,
   "metadata": {},
   "outputs": [
    {
     "name": "stdout",
     "output_type": "stream",
     "text": [
      "['b', 'c']\n",
      "['a', 'b', 'c', 'd']\n",
      "['d', 'e', 'f']\n",
      "['a', 'b', 'c', 'd', 'e', 'f']\n"
     ]
    }
   ],
   "source": [
    "uma_lista = ['a','b','c','d','e','f']\n",
    "print(uma_lista[1:3])\n",
    "print(uma_lista[:4])\n",
    "print(uma_lista[3:])\n",
    "print(uma_lista[:])\n"
   ]
  },
  {
   "cell_type": "code",
   "execution_count": 15,
   "metadata": {},
   "outputs": [
    {
     "name": "stdout",
     "output_type": "stream",
     "text": [
      "3\n"
     ]
    }
   ],
   "source": [
    "a = [1,2,3]\n",
    "b = a[:]\n",
    "b[0] = 5\n",
    "print(a[2])"
   ]
  },
  {
   "cell_type": "code",
   "execution_count": 16,
   "metadata": {},
   "outputs": [],
   "source": [
    "minhaLista = [76,92.3,\"oi\",True,4,76]\n"
   ]
  },
  {
   "cell_type": "code",
   "execution_count": 50,
   "metadata": {},
   "outputs": [
    {
     "name": "stdout",
     "output_type": "stream",
     "text": [
      "[76, 92.3, 'oi', True, 4, [76, 'pitomba', 76]]\n"
     ]
    }
   ],
   "source": [
    "#questão a) primeiro teste\n",
    "minhaLista = [76,92.3,\"oi\",True,4,76]\n",
    "listaDois = [76,'pitomba',76]\n",
    "minhaLista[5] = listaDois\n",
    "print(minhaLista)"
   ]
  },
  {
   "cell_type": "code",
   "execution_count": 52,
   "metadata": {},
   "outputs": [
    {
     "name": "stdout",
     "output_type": "stream",
     "text": [
      "[76, 92.3, 'oi', True, 4, 76, 92.3, 'oi', True, 4, 76, 'pitomba', 76]\n"
     ]
    }
   ],
   "source": [
    "#questão a) minha solução\n",
    "minhaLista = [76,92.3,\"oi\",True,4,76]\n",
    "listaDois = [76,92.3,'oi',True,4,76,'pitomba',76]\n",
    "minhaLista[5:] = listaDois\n",
    "print(minhaLista)"
   ]
  },
  {
   "cell_type": "code",
   "execution_count": 53,
   "metadata": {},
   "outputs": [
    {
     "data": {
      "text/plain": [
       "[76, 92.3, 'oi', True, 4, 76, 'pitomba', 76]"
      ]
     },
     "execution_count": 53,
     "metadata": {},
     "output_type": "execute_result"
    }
   ],
   "source": [
    "#questão a) solução da professora\n",
    "minhaLista = [76,92.3,\"oi\",True,4,76]\n",
    "listaDois = ['pitomba',76]\n",
    "(minhaLista + listaDois)\n"
   ]
  },
  {
   "cell_type": "code",
   "execution_count": 61,
   "metadata": {},
   "outputs": [
    {
     "name": "stdout",
     "output_type": "stream",
     "text": [
      "[76, 92.3, 'oi', 'Cibele', True, 4, 76]\n"
     ]
    }
   ],
   "source": [
    "#questão b) minha solução\n",
    "minhaLista = [76,92.3,\"oi\",True,4,76]\n",
    "minhaList = [True,4,76]\n",
    "valorNome = ['Cibele']\n",
    "minhaLista[3:] = valorNome\n",
    "minhaLista[4:] = minhaList\n",
    "print(minhaLista)"
   ]
  },
  {
   "cell_type": "code",
   "execution_count": 62,
   "metadata": {},
   "outputs": [
    {
     "data": {
      "text/plain": [
       "[99, 76, 92.3, 'oi', True, 4, 76]"
      ]
     },
     "execution_count": 62,
     "metadata": {},
     "output_type": "execute_result"
    }
   ],
   "source": [
    "#questão c) primeiro teste, FOI DE PRIMEIRAAAAAAAAAA\n",
    "minhaLista = [76,92.3,\"oi\",True,4,76]\n",
    "valorUm = [99]\n",
    "(valorUm + minhaLista)"
   ]
  },
  {
   "cell_type": "code",
   "execution_count": 63,
   "metadata": {},
   "outputs": [
    {
     "name": "stdout",
     "output_type": "stream",
     "text": [
      "o indice procurado é o segundo\n"
     ]
    }
   ],
   "source": [
    "#questão d) solução alheia, não entendi\n",
    "minha_lista = [76, 92.3, \"oi\", True, 4, 76]\n",
    " \n",
    "if( minha_lista[0] == \"oi\"):\n",
    "    print(\"o indice procurado é o zero\")\n",
    " \n",
    "elif( minha_lista[1] == \"oi\"):\n",
    "      print(\"o indice procurado é o primeiro\")\n",
    " \n",
    "elif( minha_lista[2] == \"oi\"):\n",
    "      print(\"o indice procurado é o segundo\")\n",
    " \n",
    "elif( minha_lista[3] == \"oi\"):\n",
    "      print(\"o indice procurado é o terceiro\")\n",
    " \n",
    "elif( minha_lista[4] == \"oi\"):\n",
    "      print(\"o indice procurado é o quatro\")\n",
    " \n",
    "elif( minha_lista[5] == \"oi\"):\n",
    "      print(\"o indice procurado é o quinto\")\n",
    " "
   ]
  },
  {
   "cell_type": "code",
   "execution_count": 74,
   "metadata": {},
   "outputs": [
    {
     "name": "stdout",
     "output_type": "stream",
     "text": [
      "[76, 92.3, 'oi', 4, 76]\n"
     ]
    }
   ],
   "source": [
    "#questão e) primeiro teste, solução\n",
    "minhaLista = [76,92.3,\"oi\",True,4,76]\n",
    "outraLista = [4,76]\n",
    "minhaLista[3:] = outraLista\n",
    "print(minhaLista)"
   ]
  },
  {
   "cell_type": "code",
   "execution_count": null,
   "metadata": {},
   "outputs": [],
   "source": []
  }
 ],
 "metadata": {
  "kernelspec": {
   "display_name": "Python 3",
   "language": "python",
   "name": "python3"
  },
  "language_info": {
   "codemirror_mode": {
    "name": "ipython",
    "version": 3
   },
   "file_extension": ".py",
   "mimetype": "text/x-python",
   "name": "python",
   "nbconvert_exporter": "python",
   "pygments_lexer": "ipython3",
   "version": "3.11.9"
  }
 },
 "nbformat": 4,
 "nbformat_minor": 2
}
