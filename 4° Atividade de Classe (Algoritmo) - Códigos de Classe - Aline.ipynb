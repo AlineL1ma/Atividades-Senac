{
 "cells": [
  {
   "cell_type": "code",
   "execution_count": 17,
   "metadata": {},
   "outputs": [
    {
     "name": "stdout",
     "output_type": "stream",
     "text": [
      "Aqui temos 5 números impares\n",
      "E aqui também temos 5 números pares\n"
     ]
    }
   ],
   "source": [
    "#primeira parte/ definir impar e par\n",
    "numeroImpar=0\n",
    "numeroPar=0\n",
    "\n",
    "#segunda parte/ pedir 10 números inteiros\n",
    "for numeros in range(10):\n",
    "    numeros = int(input('Digite dez números interios: '))\n",
    "\n",
    "#terceira parte/ reconhecer impar e par\n",
    "    if(numeros%2 == 0):\n",
    "        numeroImpar += 1\n",
    "\n",
    "    else:\n",
    "        numeroPar += 1\n",
    "\n",
    "#quarta parte/ mostrar quantos números são impares ou pares\n",
    "print(f'Aqui temos {numeroImpar} números impares')\n",
    "print(f'E aqui também temos {numeroPar} números pares')"
   ]
  }
 ],
 "metadata": {
  "kernelspec": {
   "display_name": "Python 3",
   "language": "python",
   "name": "python3"
  },
  "language_info": {
   "codemirror_mode": {
    "name": "ipython",
    "version": 3
   },
   "file_extension": ".py",
   "mimetype": "text/x-python",
   "name": "python",
   "nbconvert_exporter": "python",
   "pygments_lexer": "ipython3",
   "version": "3.11.9"
  }
 },
 "nbformat": 4,
 "nbformat_minor": 2
}
