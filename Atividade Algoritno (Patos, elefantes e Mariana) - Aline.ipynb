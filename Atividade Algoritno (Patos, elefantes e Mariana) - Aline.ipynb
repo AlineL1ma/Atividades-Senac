{
 "cells": [
  {
   "cell_type": "markdown",
   "metadata": {},
   "source": [
    "1. PATINHOS PASSEANDO"
   ]
  },
  {
   "cell_type": "code",
   "execution_count": 23,
   "metadata": {},
   "outputs": [
    {
     "name": "stdout",
     "output_type": "stream",
     "text": [
      "5 patinhos foram passear, além das montanhas para brincar, a mamãe gritou: 'Quá, Quá, Quá, Quá', mas só  4 patinhos voltaram de lá.\n",
      "4 patinhos foram passear, além das montanhas para brincar, a mamãe gritou: 'Quá, Quá, Quá, Quá', mas só  3 patinhos voltaram de lá.\n",
      "3 patinhos foram passear, além das montanhas para brincar, a mamãe gritou: 'Quá, Quá, Quá, Quá', mas só  2 patinhos voltaram de lá.\n",
      "2 patinhos foram passear, além das montanhas para brincar, a mamãe gritou: 'Quá, Quá, Quá, Quá' mas só 1 voltou de lá.\n",
      "1 patinho foi passear, além das montanhas para brincar, a mamãe gritou: 'Quá, Quá, Quá, Quá', mas nenhum patinho voltou de lá.\n"
     ]
    }
   ],
   "source": [
    "#Definindo a variável\n",
    "duck = 5\n",
    "numDuck = 5\n",
    "\n",
    "#Criando a repetição\n",
    "for i in range(5):\n",
    "    #Montando os cálculos\n",
    "    numDuck = numDuck - 1\n",
    "    if (numDuck > 0):\n",
    "        if (numDuck == 1):\n",
    "            #Printando os resultados\n",
    "            print(duck, \"patinhos foram passear, além das montanhas para brincar, a mamãe gritou: 'Quá, Quá, Quá, Quá' mas só\", numDuck, \"voltou de lá.\")\n",
    "        else:\n",
    "            print(duck, \"patinhos foram passear, além das montanhas para brincar, a mamãe gritou: 'Quá, Quá, Quá, Quá', mas só \", numDuck, \"patinhos voltaram de lá.\")\n",
    "        duck = duck - 1\n",
    "    else:\n",
    "        print(duck, \"patinho foi passear, além das montanhas para brincar, a mamãe gritou: 'Quá, Quá, Quá, Quá', mas nenhum patinho voltou de lá.\")"
   ]
  },
  {
   "cell_type": "markdown",
   "metadata": {},
   "source": [
    "2. ELEFANTES DE 1 ATÉ 10"
   ]
  },
  {
   "cell_type": "code",
   "execution_count": 32,
   "metadata": {},
   "outputs": [
    {
     "name": "stdout",
     "output_type": "stream",
     "text": [
      "1 elefante incomoda muita gente\n",
      "2 elefantes  incomodam, incomodam,  muito mais\n",
      "3 elefantes incomodam muita gente\n",
      "4 elefantes  incomodam, incomodam, incomodam, incomodam,  muito mais\n",
      "5 elefantes incomodam muita gente\n",
      "6 elefantes  incomodam, incomodam, incomodam, incomodam, incomodam, incomodam,  muito mais\n",
      "7 elefantes incomodam muita gente\n",
      "8 elefantes  incomodam, incomodam, incomodam, incomodam, incomodam, incomodam, incomodam, incomodam,  muito mais\n",
      "9 elefantes incomodam muita gente\n",
      "10 elefantes  incomodam, incomodam, incomodam, incomodam, incomodam, incomodam, incomodam, incomodam, incomodam, incomodam,  muito mais\n"
     ]
    }
   ],
   "source": [
    "#Criando a variável elefante\n",
    "elephant = 1\n",
    "\n",
    "#Começando os comandos de repetição\n",
    "for i in range(10):\n",
    "   if elephant == 1:\n",
    "      #Mostrando resultado no print\n",
    "      print(elephant,\"elefante incomoda muita gente\")  \n",
    "   else:\n",
    "       #Calculando e mostrando o resultado no print\n",
    "       if elephant % 2 == 0:\n",
    "         print(elephant,\"elefantes \" ,\"incomodam, \"* elephant,\"muito mais\")  \n",
    "       else:\n",
    "         print(elephant,\"elefantes incomodam muita gente\")\n",
    "   elephant+=1      "
   ]
  },
  {
   "cell_type": "markdown",
   "metadata": {},
   "source": [
    "3. ELEFANTES DE 10 ATÉ 1"
   ]
  },
  {
   "cell_type": "code",
   "execution_count": 29,
   "metadata": {},
   "outputs": [
    {
     "name": "stdout",
     "output_type": "stream",
     "text": [
      "10 elefantes incomodam muita gente!\n",
      "9 elefantes incomodam, incomodam, incomodam, incomodam, incomodam, incomodam, incomodam, incomodam, incomodam,  muito menos!\n",
      "8 elefantes incomodam muita gente!\n",
      "7 elefantes incomodam, incomodam, incomodam, incomodam, incomodam, incomodam, incomodam,  muito menos!\n",
      "6 elefantes incomodam muita gente!\n",
      "5 elefantes incomodam, incomodam, incomodam, incomodam, incomodam,  muito menos!\n",
      "4 elefantes incomodam muita gente!\n",
      "3 elefantes incomodam, incomodam, incomodam,  muito menos!\n",
      "2 elefantes incomodam muita gente!\n",
      "1 elefante incomoda muita menos!\n"
     ]
    }
   ],
   "source": [
    "#Criando lista para elefantes\n",
    "for elephan in [10,9,8,7,6,5,4,3,2,1]:\n",
    "    #Calculando\n",
    "    if elephan == 1:\n",
    "        #Mostrando resultado no print\n",
    "        print((f'{elephan} elefante incomoda muita menos!'))\n",
    "    #Calculando\n",
    "    elif elephan % 2 == 0:\n",
    "        print (f'{elephan} elefantes incomodam muita gente!')\n",
    "    #Montando a repetição dos incomodam por número de elefantes\n",
    "    else:\n",
    "        incomoda = 'incomodam, ' * elephan\n",
    "        print(f'{elephan} elefantes {incomoda} muito menos!') "
   ]
  },
  {
   "cell_type": "markdown",
   "metadata": {},
   "source": [
    "4. MARIANA CONTA"
   ]
  },
  {
   "cell_type": "code",
   "execution_count": 8,
   "metadata": {},
   "outputs": [
    {
     "name": "stdout",
     "output_type": "stream",
     "text": [
      "Mariana conta um, é um\n",
      "Mariana conta 2 Mariana conta 2 é [1, 2] é Ana, viva Mariana, viva Mariana\n",
      "Mariana conta 3 Mariana conta 3 é [1, 2, 3] é Ana, viva Mariana, viva Mariana\n",
      "Mariana conta 4 Mariana conta 4 é [1, 2, 3, 4] é Ana, viva Mariana, viva Mariana\n",
      "Mariana conta 5 Mariana conta 5 é [1, 2, 3, 4, 5] é Ana, viva Mariana, viva Mariana\n",
      "Mariana conta 6 Mariana conta 6 é [1, 2, 3, 4, 5, 6] é Ana, viva Mariana, viva Mariana\n",
      "Mariana conta 7 Mariana conta 7 é [1, 2, 3, 4, 5, 6, 7] é Ana, viva Mariana, viva Mariana\n",
      "Mariana conta 8 Mariana conta 8 é [1, 2, 3, 4, 5, 6, 7, 8] é Ana, viva Mariana, viva Mariana\n",
      "Mariana conta 9 Mariana conta 9 é [1, 2, 3, 4, 5, 6, 7, 8, 9] é Ana, viva Mariana, viva Mariana\n",
      "Mariana conta 10 Mariana conta 10 é [1, 2, 3, 4, 5, 6, 7, 8, 9, 10] é Ana, viva Mariana, viva Mariana\n"
     ]
    }
   ],
   "source": [
    "#Criando uma lista de números que Mariana conta\n",
    "numMariana = [1,2,3,4,5,6,7,8,9,10]\n",
    "\n",
    "#Definindo os comandos\n",
    "for i in numMariana:\n",
    "    if (i == 1):\n",
    "        print (\"Mariana conta um, é um\")\n",
    "    else: \n",
    "        print (\"Mariana conta\", i,\"Mariana conta\", i,\"é\", numMariana [0:i],\"é Ana, viva Mariana, viva Mariana\")"
   ]
  }
 ],
 "metadata": {
  "kernelspec": {
   "display_name": "Python 3",
   "language": "python",
   "name": "python3"
  },
  "language_info": {
   "codemirror_mode": {
    "name": "ipython",
    "version": 3
   },
   "file_extension": ".py",
   "mimetype": "text/x-python",
   "name": "python",
   "nbconvert_exporter": "python",
   "pygments_lexer": "ipython3",
   "version": "3.11.4"
  }
 },
 "nbformat": 4,
 "nbformat_minor": 2
}
