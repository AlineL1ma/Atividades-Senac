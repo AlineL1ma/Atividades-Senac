{
 "cells": [
  {
   "cell_type": "code",
   "execution_count": 33,
   "metadata": {},
   "outputs": [],
   "source": [
    "valor1 = float(input(\"Digite um número inteiro:\"))\n",
    "valor2 = float(input(\"Digite um outro número inteiro:\"))\n",
    "valor3 = float(input(\"Agora, digite um número real:\"))"
   ]
  },
  {
   "cell_type": "code",
   "execution_count": 34,
   "metadata": {},
   "outputs": [
    {
     "name": "stdout",
     "output_type": "stream",
     "text": [
      "215.0\n"
     ]
    }
   ],
   "source": [
    "#O produto do dobro do primeiro com metade do segundo.\n",
    "print((50 * 2)*(valor3 / 2))"
   ]
  },
  {
   "cell_type": "code",
   "execution_count": 35,
   "metadata": {},
   "outputs": [
    {
     "name": "stdout",
     "output_type": "stream",
     "text": [
      "109.50699999999999\n"
     ]
    }
   ],
   "source": [
    "#A soma do triplo do primeiro com o terceiro. o terceiro elevado ao cubo.\n",
    "print((valor1 * 3) + (valor3 ** 3))"
   ]
  },
  {
   "cell_type": "code",
   "execution_count": 37,
   "metadata": {},
   "outputs": [
    {
     "name": "stdout",
     "output_type": "stream",
     "text": [
      "Maior número é: 95.0\n"
     ]
    }
   ],
   "source": [
    "#Faça um Programa que peça dois números e imprima o maior deles.\n",
    "numero1 = float(input(\"Digite aqui um número:\"))\n",
    "numero2 = float(input(\"Digite aqui um outro número:\"))\n",
    "maior_numero = 0\n",
    "\n",
    "#Verificar qual número é maior\n",
    "if (numero1 > numero2):\n",
    "    (maior_numero := numero1)\n",
    "else:\n",
    "    (maior_numero := numero2)\n",
    "    \n",
    "#Imprime maior número\n",
    "print(\"Maior número é:\", maior_numero)"
   ]
  },
  {
   "cell_type": "code",
   "execution_count": 46,
   "metadata": {},
   "outputs": [
    {
     "name": "stdout",
     "output_type": "stream",
     "text": [
      "Número positivo\n"
     ]
    }
   ],
   "source": [
    "#Programa que mostra se o valor é positivo ou negativo.\n",
    "v1 = float(input(\"Digite um número aqui:\"))\n",
    "if(v1 <= 0):\n",
    "    print(\"Número negativo\")\n",
    "else:\n",
    "    print(\"Número positivo\")"
   ]
  },
  {
   "cell_type": "code",
   "execution_count": 97,
   "metadata": {},
   "outputs": [
    {
     "name": "stdout",
     "output_type": "stream",
     "text": [
      "Reprovado! Média 3.5\n"
     ]
    }
   ],
   "source": [
    "#Programa de Leitura de Notas.\n",
    "nota1 = float(input(\"Digite a primeira nota do aluno\"))\n",
    "nota2 = float(input(\"Digite a segunda nota do aluno\"))\n",
    "mediaAluno = ((nota1 + nota2) / 2) \n",
    "\n",
    "#Ou print((nota1 + nota2)/2)\n",
    "if(mediaAluno >= 7):\n",
    "    print(f\"Aprovado! Média {mediaAluno}\")\n",
    "else:\n",
    "    print(f\"Reprovado! Média {mediaAluno}\")"
   ]
  },
  {
   "cell_type": "code",
   "execution_count": 109,
   "metadata": {},
   "outputs": [
    {
     "name": "stdout",
     "output_type": "stream",
     "text": [
      "Maior número é 34.0\n"
     ]
    }
   ],
   "source": [
    "#Ler três números e mostre o maior deles.\n",
    "numero1 = float(input(\"Digite aqui um número:\"))\n",
    "numero2 = float(input(\"Digite aqui um segundo número:\"))\n",
    "numero3 = float(input(\"Digite um terceiro número:\"))\n",
    "maior_numero = 0\n",
    "\n",
    "#Verificar qual número é maior\n",
    "if (numero1 > numero2 and numero1 > numero3):\n",
    "    (maior_numero := numero1)\n",
    "else:\n",
    "    (maior_numero := numero2)\n",
    "    \n",
    "if (numero3 > numero2 and numero3 > numero1):\n",
    "    (maior_numero := numero3)\n",
    "    \n",
    "#Imprime maior número\n",
    "print(\"Maior número é\", maior_numero)"
   ]
  }
 ],
 "metadata": {
  "kernelspec": {
   "display_name": "Python 3",
   "language": "python",
   "name": "python3"
  },
  "language_info": {
   "codemirror_mode": {
    "name": "ipython",
    "version": 3
   },
   "file_extension": ".py",
   "mimetype": "text/x-python",
   "name": "python",
   "nbconvert_exporter": "python",
   "pygments_lexer": "ipython3",
   "version": "3.11.5"
  }
 },
 "nbformat": 4,
 "nbformat_minor": 2
}
