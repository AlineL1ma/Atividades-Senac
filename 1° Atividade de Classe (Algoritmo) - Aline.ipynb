{
 "cells": [
  {
   "cell_type": "code",
   "execution_count": 24,
   "metadata": {},
   "outputs": [
    {
     "name": "stdout",
     "output_type": "stream",
     "text": [
      "O valor do imposto a ser pago é de 300.0.\n"
     ]
    }
   ],
   "source": [
    "#Colher as informações do carro\n",
    "ano_carro = int(input(\"Digite o ano do seu carro:\"))\n",
    "preco_carro = float(input(\"Digite o valor do seu carro:\"))\n",
    "\n",
    "#Calcular o imposto que terá\n",
    "imposto1 = (float(1/100 * preco_carro))\n",
    "imposto2 = (float(1.5/100 * preco_carro))\n",
    "\n",
    "#Entregar o valor do imposto\n",
    "if (ano_carro < 1990):\n",
    "    print (f\"O valor do imposto a ser pago é de {imposto1}.\")\n",
    "else:\n",
    "    print(f\"O valor do imposto a ser pago é de {imposto2}.\")\n",
    "\n",
    "\n",
    "\n"
   ]
  },
  {
   "cell_type": "code",
   "execution_count": 65,
   "metadata": {},
   "outputs": [
    {
     "name": "stdout",
     "output_type": "stream",
     "text": [
      "O seu salário inicial é de 7000.0 reais. Você teve um aumento no salário de 2800.0 reais. Agora, o seu salário atual é de 9800.0\n"
     ]
    }
   ],
   "source": [
    "#Coletando os cargos e salários\n",
    "cargo = str(input(\"Por favor, informe aqui o código do seu cargo.\"))\n",
    "salario = float(input(\"Agora, informe o seu salário.\"))\n",
    "\n",
    "#Definindo os cargos e códigos\n",
    "gerente = 101 == cargo\n",
    "engenheiro = 102 == cargo\n",
    "tecnico = 103 == cargo\n",
    "\n",
    "#Mostrando o salário atual, o aumento e o novo salário para o funcionário\n",
    "if(cargo == 101):\n",
    "    print(f\"O seu salário inicial é de {salario} reais. Você teve um aumento no salário de {10/100 * salario} reais. Agora, o seu salário atual é de {salario + salario*10/100}\")\n",
    "\n",
    "elif(cargo == 102):\n",
    "    print(f\"O seu salário inicial é de {salario} reais. Você teve um aumento no salário de {20/100 * salario} reais. Agora, o seu salário atual é de {salario + salario*20/100}\")\n",
    "\n",
    "elif(cargo == 103):\n",
    "    print(f\"O seu salário inicial é de {salario} reais. Você teve um aumento no salário de {30/100 * salario} reais. Agora, o seu salário atual é de {salario + salario*30/100}\")\n",
    "\n",
    "else:\n",
    "    print(f\"O seu salário inicial é de {salario} reais. Você teve um aumento no salário de {40/100 * salario} reais. Agora, o seu salário atual é de {salario + salario*40/100}\")\n",
    "\n",
    "\n"
   ]
  }
 ],
 "metadata": {
  "kernelspec": {
   "display_name": "Python 3",
   "language": "python",
   "name": "python3"
  },
  "language_info": {
   "codemirror_mode": {
    "name": "ipython",
    "version": 3
   },
   "file_extension": ".py",
   "mimetype": "text/x-python",
   "name": "python",
   "nbconvert_exporter": "python",
   "pygments_lexer": "ipython3",
   "version": "3.11.9"
  }
 },
 "nbformat": 4,
 "nbformat_minor": 2
}
