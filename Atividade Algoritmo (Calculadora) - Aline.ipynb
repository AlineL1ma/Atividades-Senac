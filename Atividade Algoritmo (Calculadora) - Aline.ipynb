{
 "cells": [
  {
   "cell_type": "code",
   "execution_count": 11,
   "metadata": {},
   "outputs": [
    {
     "name": "stdout",
     "output_type": "stream",
     "text": [
      "@=======================@\n",
      "|   MENU DE OPERAÇÕES   |\n",
      "|     1 - somar         |\n",
      "|     2 - subtrair      |\n",
      "|     3 - multiplicar   |\n",
      "|     4 - dividir       |\n",
      "|     5 - sair          |\n",
      "@=======================@\n",
      "O resultado da soma é:  20\n"
     ]
    }
   ],
   "source": [
    "#Definindo os cálculos existentes da calculadora\n",
    "def soma(num1, num2):\n",
    "    return num1+num2\n",
    "\n",
    "def subtracao(num1, num2):\n",
    "    return num1-num2\n",
    "\n",
    "def multiplicacao(num1, num2):\n",
    "    return num1*num2\n",
    "\n",
    "def divisao(num1, num2):\n",
    "    return num1/num2\n",
    "\n",
    "\n",
    "#Montando o looping\n",
    "while True:\n",
    "    #Montando a calculadora\n",
    "    print(\"@=======================@\")\n",
    "    print(\"|   MENU DE OPERAÇÕES   |\")\n",
    "    print(\"|     1 - somar         |\")\n",
    "    print(\"|     2 - subtrair      |\")\n",
    "    print(\"|     3 - multiplicar   |\")\n",
    "    print(\"|     4 - dividir       |\")\n",
    "    print(\"|     5 - sair          |\")\n",
    "    print(\"@=======================@\")\n",
    "\n",
    "\n",
    "    #Criando a quebra do looping\n",
    "    op = int(input())\n",
    "    if op == 0:\n",
    "        break\n",
    "\n",
    "\n",
    "    #                                                                                                                      \n",
    "    num1 = int(input(\"Primeiro número: \"))\n",
    "    num2 = int(input(\"Segundo número: \"))\n",
    "\n",
    "\n",
    "    if op==1:\n",
    "        print(\"O resultado da soma é: \", soma(num1, num2))\n",
    "        break\n",
    "    elif op==2:\n",
    "        print(\"O resultado da subtração é: \", subtracao(num1, num2))\n",
    "        break\n",
    "    elif op==3:\n",
    "        print(\"O resultado da multiplicação é: \", multiplicacao(num1, num2))\n",
    "        break\n",
    "    elif op==4:\n",
    "        print(\"O resultado da divisão é: \", divisao(num1, num2))\n",
    "        break\n",
    "    else:\n",
    "        print(\"Por favor, digite a operação desejada.\")\n",
    "        break\n",
    "    break"
   ]
  }
 ],
 "metadata": {
  "kernelspec": {
   "display_name": "Python 3",
   "language": "python",
   "name": "python3"
  },
  "language_info": {
   "codemirror_mode": {
    "name": "ipython",
    "version": 3
   },
   "file_extension": ".py",
   "mimetype": "text/x-python",
   "name": "python",
   "nbconvert_exporter": "python",
   "pygments_lexer": "ipython3",
   "version": "3.12.1"
  }
 },
 "nbformat": 4,
 "nbformat_minor": 2
}
